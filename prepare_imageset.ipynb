{
 "cells": [
  {
   "cell_type": "markdown",
   "id": "094c9e86",
   "metadata": {},
   "source": [
    "# Resize and rename images for web use\n",
    "\n",
    "The converted images are copied to /client/images/"
   ]
  },
  {
   "cell_type": "code",
   "execution_count": 11,
   "id": "df975bd8",
   "metadata": {},
   "outputs": [
    {
     "name": "stdout",
     "output_type": "stream",
     "text": [
      "3000 1999\n",
      "63e0a4b77cbde0fcea0835f414c0f230\n",
      "1600 837\n"
     ]
    },
    {
     "name": "stderr",
     "output_type": "stream",
     "text": [
      "C:\\Users\\eleve\\AppData\\Local\\Temp\\ipykernel_26140\\4045117884.py:16: DeprecationWarning: ANTIALIAS is deprecated and will be removed in Pillow 10 (2023-07-01). Use Resampling.LANCZOS instead.\n",
      "  imResize = im.resize((round(800*w/h), 800), Image.ANTIALIAS)\n"
     ]
    },
    {
     "name": "stdout",
     "output_type": "stream",
     "text": [
      "3f6a9066c4b4193f9e87460ee2ee4021\n",
      "3000 2330\n",
      "72d9c008de3765763d4585ce2cad65db\n",
      "3000 1773\n",
      "0c30626cfcc623c95c710fdcd8d2bb0c\n",
      "3000 2384\n",
      "e850b0ebb44d265c828952a28a30087f\n",
      "3000 2354\n",
      "0e32dcede2d988353f09902da630e397\n",
      "3000 2056\n",
      "ae9439701d1d9e6c8ce076c34ef95572\n",
      "3000 2881\n",
      "26e0979da287027622bc89d5828e99f9\n"
     ]
    }
   ],
   "source": [
    "from PIL import Image\n",
    "import os, sys\n",
    "import hashlib\n",
    "from time import sleep\n",
    "\n",
    "path = \"./images/\"\n",
    "dirs = os.listdir( path )\n",
    "\n",
    "for item in dirs:\n",
    "    if os.path.isfile(path+item):\n",
    "        im = Image.open(path+item)\n",
    "        im = im.convert('RGB')\n",
    "        f, e = os.path.splitext(path+item)\n",
    "        w,h = im.size\n",
    "        print(w,h)\n",
    "        imResize = im.resize((round(800*w/h), 800), Image.ANTIALIAS)\n",
    "        imResize.save(f + '_resized.jpg', 'JPEG', quality=70)\n",
    "        new_fname = hashlib.md5(open(f + '_resized.jpg','rb').read()).hexdigest()\n",
    "        # sleep(1)\n",
    "        print(new_fname)\n",
    "        os.rename(f + '_resized.jpg', path + '/' + new_fname + '.jpg')"
   ]
  },
  {
   "cell_type": "code",
   "execution_count": null,
   "id": "725349c5",
   "metadata": {},
   "outputs": [],
   "source": []
  }
 ],
 "metadata": {
  "kernelspec": {
   "display_name": "Python 3 (ipykernel)",
   "language": "python",
   "name": "python3"
  },
  "language_info": {
   "codemirror_mode": {
    "name": "ipython",
    "version": 3
   },
   "file_extension": ".py",
   "mimetype": "text/x-python",
   "name": "python",
   "nbconvert_exporter": "python",
   "pygments_lexer": "ipython3",
   "version": "3.9.12"
  }
 },
 "nbformat": 4,
 "nbformat_minor": 5
}
